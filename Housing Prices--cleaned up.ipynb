{
 "cells": [
  {
   "cell_type": "code",
   "execution_count": 1,
   "metadata": {},
   "outputs": [],
   "source": [
    "import pandas as pd\n",
    "import numpy as np\n",
    "import matplotlib.pyplot as plt\n",
    "import seaborn as sns\n",
    "from sklearn import metrics\n",
    "from sklearn import linear_model\n",
    "from sklearn.linear_model import RidgeCV\n",
    "from sklearn.linear_model import LassoCV\n",
    "from scipy import stats\n",
    "from scipy.stats import norm\n",
    "from scipy.stats import skew"
   ]
  },
  {
   "cell_type": "code",
   "execution_count": 300,
   "metadata": {},
   "outputs": [],
   "source": [
    "del training_data\n",
    "training_data = pd.read_csv(\"train.csv\")\n",
    "test_data = pd.read_csv(\"test.csv\")"
   ]
  },
  {
   "cell_type": "markdown",
   "metadata": {},
   "source": [
    "Reset ID column as Index"
   ]
  },
  {
   "cell_type": "code",
   "execution_count": 301,
   "metadata": {},
   "outputs": [],
   "source": [
    "training_data.set_index('Id',inplace=True)\n",
    "test_data.set_index('Id',inplace=True)"
   ]
  },
  {
   "cell_type": "code",
   "execution_count": 302,
   "metadata": {
    "scrolled": false
   },
   "outputs": [
    {
     "name": "stdout",
     "output_type": "stream",
     "text": [
      "<class 'pandas.core.frame.DataFrame'>\n",
      "Int64Index: 1460 entries, 1 to 1460\n",
      "Data columns (total 80 columns):\n",
      "MSSubClass       1460 non-null int64\n",
      "MSZoning         1460 non-null object\n",
      "LotFrontage      1201 non-null float64\n",
      "LotArea          1460 non-null int64\n",
      "Street           1460 non-null object\n",
      "Alley            91 non-null object\n",
      "LotShape         1460 non-null object\n",
      "LandContour      1460 non-null object\n",
      "Utilities        1460 non-null object\n",
      "LotConfig        1460 non-null object\n",
      "LandSlope        1460 non-null object\n",
      "Neighborhood     1460 non-null object\n",
      "Condition1       1460 non-null object\n",
      "Condition2       1460 non-null object\n",
      "BldgType         1460 non-null object\n",
      "HouseStyle       1460 non-null object\n",
      "OverallQual      1460 non-null int64\n",
      "OverallCond      1460 non-null int64\n",
      "YearBuilt        1460 non-null int64\n",
      "YearRemodAdd     1460 non-null int64\n",
      "RoofStyle        1460 non-null object\n",
      "RoofMatl         1460 non-null object\n",
      "Exterior1st      1460 non-null object\n",
      "Exterior2nd      1460 non-null object\n",
      "MasVnrType       1452 non-null object\n",
      "MasVnrArea       1452 non-null float64\n",
      "ExterQual        1460 non-null object\n",
      "ExterCond        1460 non-null object\n",
      "Foundation       1460 non-null object\n",
      "BsmtQual         1423 non-null object\n",
      "BsmtCond         1423 non-null object\n",
      "BsmtExposure     1422 non-null object\n",
      "BsmtFinType1     1423 non-null object\n",
      "BsmtFinSF1       1460 non-null int64\n",
      "BsmtFinType2     1422 non-null object\n",
      "BsmtFinSF2       1460 non-null int64\n",
      "BsmtUnfSF        1460 non-null int64\n",
      "TotalBsmtSF      1460 non-null int64\n",
      "Heating          1460 non-null object\n",
      "HeatingQC        1460 non-null object\n",
      "CentralAir       1460 non-null object\n",
      "Electrical       1459 non-null object\n",
      "1stFlrSF         1460 non-null int64\n",
      "2ndFlrSF         1460 non-null int64\n",
      "LowQualFinSF     1460 non-null int64\n",
      "GrLivArea        1460 non-null int64\n",
      "BsmtFullBath     1460 non-null int64\n",
      "BsmtHalfBath     1460 non-null int64\n",
      "FullBath         1460 non-null int64\n",
      "HalfBath         1460 non-null int64\n",
      "BedroomAbvGr     1460 non-null int64\n",
      "KitchenAbvGr     1460 non-null int64\n",
      "KitchenQual      1460 non-null object\n",
      "TotRmsAbvGrd     1460 non-null int64\n",
      "Functional       1460 non-null object\n",
      "Fireplaces       1460 non-null int64\n",
      "FireplaceQu      770 non-null object\n",
      "GarageType       1379 non-null object\n",
      "GarageYrBlt      1379 non-null float64\n",
      "GarageFinish     1379 non-null object\n",
      "GarageCars       1460 non-null int64\n",
      "GarageArea       1460 non-null int64\n",
      "GarageQual       1379 non-null object\n",
      "GarageCond       1379 non-null object\n",
      "PavedDrive       1460 non-null object\n",
      "WoodDeckSF       1460 non-null int64\n",
      "OpenPorchSF      1460 non-null int64\n",
      "EnclosedPorch    1460 non-null int64\n",
      "3SsnPorch        1460 non-null int64\n",
      "ScreenPorch      1460 non-null int64\n",
      "PoolArea         1460 non-null int64\n",
      "PoolQC           7 non-null object\n",
      "Fence            281 non-null object\n",
      "MiscFeature      54 non-null object\n",
      "MiscVal          1460 non-null int64\n",
      "MoSold           1460 non-null int64\n",
      "YrSold           1460 non-null int64\n",
      "SaleType         1460 non-null object\n",
      "SaleCondition    1460 non-null object\n",
      "SalePrice        1460 non-null int64\n",
      "dtypes: float64(3), int64(34), object(43)\n",
      "memory usage: 923.9+ KB\n"
     ]
    }
   ],
   "source": [
    "training_data.info()"
   ]
  },
  {
   "cell_type": "markdown",
   "metadata": {},
   "source": [
    "The first thing you will notice is that the data is composed of both numerical and categorical features. In order to perform linear regression on the categorical data, we will need to convert it to binary features using one hot encoding. \n",
    "\n",
    "Before we get to that, we must clean and process the data."
   ]
  },
  {
   "cell_type": "markdown",
   "metadata": {},
   "source": [
    "# Filling Null Values"
   ]
  },
  {
   "cell_type": "markdown",
   "metadata": {},
   "source": [
    "The data description usually tells us what the null values should be filled as."
   ]
  },
  {
   "cell_type": "code",
   "execution_count": 303,
   "metadata": {},
   "outputs": [],
   "source": [
    "training_data['Alley'].fillna(value='NoAlley',inplace=True)\n",
    "training_data['LotFrontage'].fillna(value=0,inplace=True)\n",
    "training_data['GarageType'].fillna(value='NoGarage',inplace=True)\n",
    "training_data['Fence'].fillna(value='NoFence',inplace=True)\n",
    "training_data['MasVnrType'].fillna(value='None',inplace=True)\n",
    "training_data['MasVnrArea'].fillna(value=0,inplace=True)\n",
    "training_data['BsmtQual'].fillna('No',inplace=True)\n",
    "training_data['BsmtCond'].fillna('No',inplace=True)\n",
    "training_data['BsmtExposure'].fillna('No',inplace=True)\n",
    "training_data['BsmtFinType1'].fillna('No',inplace=True)\n",
    "training_data['BsmtFinType2'].fillna('No',inplace=True)\n",
    "training_data['FireplaceQu'].fillna('No',inplace=True)\n",
    "training_data['GarageFinish'].fillna('No',inplace=True)\n",
    "training_data['GarageQual'].fillna('No',inplace=True)\n",
    "training_data['GarageCond'].fillna('No',inplace=True)\n",
    "training_data['PoolQC'].fillna('No',inplace=True)\n",
    "training_data['MiscFeature'].fillna('No',inplace=True)\n",
    "training_data['GarageYrBlt'].fillna(training_data['YearBuilt'],inplace=True)\n",
    "#training_data['Electrical'].fillna('SBrkr',inplace=True)"
   ]
  },
  {
   "cell_type": "markdown",
   "metadata": {},
   "source": [
    "Do the same for test data, but with a few more features containing nulls."
   ]
  },
  {
   "cell_type": "code",
   "execution_count": 304,
   "metadata": {},
   "outputs": [],
   "source": [
    "test_data['Alley'].fillna(value='NoAlley',inplace=True)\n",
    "test_data['LotFrontage'].fillna(value=0,inplace=True)\n",
    "test_data['GarageType'].fillna(value='NoGarage',inplace=True)\n",
    "test_data['Fence'].fillna(value='NoFence',inplace=True)\n",
    "test_data['MasVnrType'].fillna(value='None',inplace=True)\n",
    "test_data['MasVnrArea'].fillna(value=0,inplace=True)\n",
    "test_data['BsmtQual'].fillna('No',inplace=True)\n",
    "test_data['BsmtCond'].fillna('No',inplace=True)\n",
    "test_data['BsmtExposure'].fillna('No',inplace=True)\n",
    "test_data['BsmtFinType1'].fillna('No',inplace=True)\n",
    "test_data['BsmtFinType2'].fillna('No',inplace=True)\n",
    "test_data['FireplaceQu'].fillna('No',inplace=True)\n",
    "test_data['GarageFinish'].fillna('No',inplace=True)\n",
    "test_data['GarageQual'].fillna('No',inplace=True)\n",
    "test_data['GarageCond'].fillna('No',inplace=True)\n",
    "test_data['PoolQC'].fillna('No',inplace=True)\n",
    "test_data['MiscFeature'].fillna('No',inplace=True)\n",
    "test_data['GarageYrBlt'].fillna(test_data['YearBuilt'],inplace=True)\n",
    "\n",
    "test_data['Utilities'].fillna('AllPub',inplace=True)\n",
    "test_data['BsmtFinSF1'].fillna(0,inplace=True)\n",
    "test_data['BsmtFinSF2'].fillna(0,inplace=True)\n",
    "test_data['BsmtUnfSF'].fillna(0,inplace=True)\n",
    "test_data['TotalBsmtSF'].fillna(0,inplace=True)\n",
    "test_data['BsmtFullBath'].fillna(0,inplace=True)\n",
    "test_data['BsmtHalfBath'].fillna(0,inplace=True)\n",
    "test_data['Functional'].fillna(8,inplace=True)\n",
    "test_data['KitchenQual'].fillna(3,inplace=True)\n",
    "test_data['SaleType'].fillna('WD',inplace=True)\n",
    "test_data['GarageCars'].fillna(0,inplace=True)\n",
    "test_data['Exterior1st'].fillna('VinylSd',inplace=True)\n",
    "test_data['Exterior2nd'].fillna('VinylSd',inplace=True)\n",
    "test_data['GarageArea'].fillna(0,inplace=True)\n",
    "test_data['MSZoning'].fillna('RL',inplace=True)"
   ]
  },
  {
   "cell_type": "code",
   "execution_count": 132,
   "metadata": {
    "scrolled": true
   },
   "outputs": [
    {
     "name": "stdout",
     "output_type": "stream",
     "text": [
      "<class 'pandas.core.frame.DataFrame'>\n",
      "Int64Index: 1459 entries, 1461 to 2919\n",
      "Data columns (total 79 columns):\n",
      "MSSubClass       1459 non-null object\n",
      "MSZoning         1459 non-null object\n",
      "LotFrontage      1459 non-null float64\n",
      "LotArea          1459 non-null int64\n",
      "Street           1459 non-null object\n",
      "Alley            1459 non-null object\n",
      "LotShape         1459 non-null object\n",
      "LandContour      1459 non-null object\n",
      "Utilities        1459 non-null object\n",
      "LotConfig        1459 non-null object\n",
      "LandSlope        1459 non-null object\n",
      "Neighborhood     1459 non-null object\n",
      "Condition1       1459 non-null object\n",
      "Condition2       1459 non-null object\n",
      "BldgType         1459 non-null object\n",
      "HouseStyle       1459 non-null object\n",
      "OverallQual      1459 non-null int64\n",
      "OverallCond      1459 non-null int64\n",
      "YearBuilt        1459 non-null int64\n",
      "YearRemodAdd     1459 non-null int64\n",
      "RoofStyle        1459 non-null object\n",
      "RoofMatl         1459 non-null object\n",
      "Exterior1st      1459 non-null object\n",
      "Exterior2nd      1459 non-null object\n",
      "MasVnrType       1459 non-null object\n",
      "MasVnrArea       1459 non-null float64\n",
      "ExterQual        1459 non-null int64\n",
      "ExterCond        1459 non-null int64\n",
      "Foundation       1459 non-null object\n",
      "BsmtQual         1459 non-null int64\n",
      "BsmtCond         1459 non-null int64\n",
      "BsmtExposure     1459 non-null int64\n",
      "BsmtFinType1     1459 non-null object\n",
      "BsmtFinSF1       1459 non-null float64\n",
      "BsmtFinType2     1459 non-null object\n",
      "BsmtFinSF2       1459 non-null float64\n",
      "BsmtUnfSF        1459 non-null float64\n",
      "TotalBsmtSF      1459 non-null float64\n",
      "Heating          1459 non-null object\n",
      "HeatingQC        1459 non-null int64\n",
      "CentralAir       1459 non-null int64\n",
      "Electrical       1459 non-null object\n",
      "1stFlrSF         1459 non-null int64\n",
      "2ndFlrSF         1459 non-null int64\n",
      "LowQualFinSF     1459 non-null int64\n",
      "GrLivArea        1459 non-null int64\n",
      "BsmtFullBath     1459 non-null float64\n",
      "BsmtHalfBath     1459 non-null float64\n",
      "FullBath         1459 non-null int64\n",
      "HalfBath         1459 non-null int64\n",
      "BedroomAbvGr     1459 non-null int64\n",
      "KitchenAbvGr     1459 non-null int64\n",
      "KitchenQual      1459 non-null int64\n",
      "TotRmsAbvGrd     1459 non-null int64\n",
      "Functional       1459 non-null int64\n",
      "Fireplaces       1459 non-null int64\n",
      "FireplaceQu      1459 non-null int64\n",
      "GarageType       1459 non-null object\n",
      "GarageYrBlt      1459 non-null float64\n",
      "GarageFinish     1459 non-null int64\n",
      "GarageCars       1459 non-null float64\n",
      "GarageArea       1459 non-null float64\n",
      "GarageQual       1459 non-null int64\n",
      "GarageCond       1459 non-null int64\n",
      "PavedDrive       1459 non-null int64\n",
      "WoodDeckSF       1459 non-null int64\n",
      "OpenPorchSF      1459 non-null int64\n",
      "EnclosedPorch    1459 non-null int64\n",
      "3SsnPorch        1459 non-null int64\n",
      "ScreenPorch      1459 non-null int64\n",
      "PoolArea         1459 non-null int64\n",
      "PoolQC           1459 non-null int64\n",
      "Fence            1459 non-null int64\n",
      "MiscFeature      1459 non-null object\n",
      "MiscVal          1459 non-null int64\n",
      "MoSold           1459 non-null int64\n",
      "YrSold           1459 non-null int64\n",
      "SaleType         1459 non-null object\n",
      "SaleCondition    1459 non-null object\n",
      "dtypes: float64(11), int64(40), object(28)\n",
      "memory usage: 911.9+ KB\n"
     ]
    }
   ],
   "source": [
    "test_data.info()"
   ]
  },
  {
   "cell_type": "markdown",
   "metadata": {},
   "source": [
    "The Ames dataset description says that a few outliers with very large GrLivArea have strange behavior and suggests culling them, so that is what we will do."
   ]
  },
  {
   "cell_type": "code",
   "execution_count": 305,
   "metadata": {},
   "outputs": [],
   "source": [
    "training_data[(training_data['GrLivArea']>4000) & (training_data['SalePrice']<200000)]\n",
    "training_data.drop(index=[523,1298],inplace=True)\n",
    "training_data.dropna(subset=['Electrical'],inplace=True)"
   ]
  },
  {
   "cell_type": "code",
   "execution_count": 306,
   "metadata": {},
   "outputs": [
    {
     "data": {
      "text/plain": [
       "0"
      ]
     },
     "execution_count": 306,
     "metadata": {},
     "output_type": "execute_result"
    }
   ],
   "source": [
    "training_data.isnull().sum().sum()"
   ]
  },
  {
   "cell_type": "code",
   "execution_count": 307,
   "metadata": {},
   "outputs": [
    {
     "data": {
      "text/plain": [
       "0"
      ]
     },
     "execution_count": 307,
     "metadata": {},
     "output_type": "execute_result"
    }
   ],
   "source": [
    "test_data.isnull().sum().sum()"
   ]
  },
  {
   "cell_type": "markdown",
   "metadata": {},
   "source": [
    "# Data type conversions"
   ]
  },
  {
   "cell_type": "markdown",
   "metadata": {},
   "source": [
    "Taking a look at one of the categorical features, \"Functional\". In the data description, this is defined as home functionality, with a wide range of values of broke-downedness.\n",
    "\n",
    "Typ  Typical Functionality\n",
    "\n",
    "   Min1 Minor Deductions 1\n",
    "   \n",
    "   Min2 Minor Deductions 2\n",
    "   \n",
    "   Mod  Moderate Deductions\n",
    "   \n",
    "   Maj1 Major Deductions 1\n",
    "   \n",
    "   Maj2 Major Deductions 2\n",
    "   \n",
    "   Sev  Severely Damaged\n",
    "   \n",
    "   Sal  Salvage only\n",
    "   \n",
    "   \n",
    "   These seem to exist on a scale from Perfect Condition to an absolute disaster that is only good for the raw materials that can be salvaged from it. "
   ]
  },
  {
   "cell_type": "code",
   "execution_count": 4,
   "metadata": {},
   "outputs": [
    {
     "data": {
      "text/plain": [
       "<matplotlib.axes._subplots.AxesSubplot at 0x298fe95dcc0>"
      ]
     },
     "execution_count": 4,
     "metadata": {},
     "output_type": "execute_result"
    },
    {
     "data": {
      "image/png": "[encoded data removed]",
      "text/plain": [
       "<Figure size 640x480 with 1 Axes>"
      ]
     },
     "metadata": {},
     "output_type": "display_data"
    }
   ],
   "source": [
    "plt.style.use('default')\n",
    "sns.set_style('darkgrid')\n",
    "sns.boxplot(x='Functional',y='SalePrice',data=training_data)"
   ]
  },
  {
   "cell_type": "markdown",
   "metadata": {},
   "source": [
    "Instead of letting it multiply into 7 different binary features, we can convert this to a numerical scale."
   ]
  },
  {
   "cell_type": "code",
   "execution_count": 308,
   "metadata": {},
   "outputs": [],
   "source": [
    "training_data['Functional'].replace({'Sal':0,'Sev':1,'Maj2':3,'Maj1':4,'Mod':5,'Min2':6,'Min1':7,'Typ':8},inplace=True)"
   ]
  },
  {
   "cell_type": "markdown",
   "metadata": {},
   "source": [
    "Upon inspection, the same is true for many of the other categorical features. Many of them can be converted with the same dictionary."
   ]
  },
  {
   "cell_type": "code",
   "execution_count": 309,
   "metadata": {},
   "outputs": [],
   "source": [
    "ExQuD={'No':0,'Po':1,'Fa':2,'TA':3,'Gd':4,'Ex':5}\n",
    "training_data['ExterQual'].replace(ExQuD,inplace=True)\n",
    "training_data['ExterCond'].replace(ExQuD,inplace=True)\n",
    "training_data['BsmtQual'].replace(ExQuD,inplace=True)\n",
    "training_data['BsmtCond'].replace(ExQuD,inplace=True)\n",
    "training_data['BsmtExposure'].replace({'No':0,'Mn':1,'Av':2,'Gd':3},inplace=True)\n",
    "training_data['HeatingQC'].replace(ExQuD,inplace=True)\n",
    "training_data['CentralAir'].replace({'Y':1,'N':0},inplace=True)\n",
    "training_data['KitchenQual'].replace(ExQuD,inplace=True)\n",
    "training_data['GarageFinish'].replace({'No':0,'Unf':1,'RFn':2,'Fin':3},inplace=True)\n",
    "training_data['GarageQual'].replace(ExQuD,inplace=True)\n",
    "training_data['GarageCond'].replace(ExQuD,inplace=True)\n",
    "training_data['PavedDrive'].replace({'N':0,'P':1,'Y':2},inplace=True)\n",
    "training_data['PoolQC'].replace(ExQuD,inplace=True)\n",
    "training_data['Fence'].replace({'NoFence':0,'MnWw':1,'GdWo':2,'MnPrv':3,'GdPrv':4},inplace=True)\n",
    "training_data['FireplaceQu'].replace(ExQuD,inplace=True)\n",
    "\n",
    "test_data['ExterQual'].replace(ExQuD,inplace=True)\n",
    "test_data['ExterCond'].replace(ExQuD,inplace=True)\n",
    "test_data['BsmtQual'].replace(ExQuD,inplace=True)\n",
    "test_data['BsmtCond'].replace(ExQuD,inplace=True)\n",
    "test_data['BsmtExposure'].replace({'No':0,'Mn':1,'Av':2,'Gd':3},inplace=True)\n",
    "test_data['HeatingQC'].replace(ExQuD,inplace=True)\n",
    "test_data['CentralAir'].replace({'Y':1,'N':0},inplace=True)\n",
    "test_data['KitchenQual'].replace(ExQuD,inplace=True)\n",
    "test_data['Functional'].replace({'Sal':0,'Sev':1,'Maj2':3,'Maj1':4,'Mod':5,'Min2':6,'Min1':7,'Typ':8},inplace=True)\n",
    "test_data['FireplaceQu'].replace(ExQuD,inplace=True)\n",
    "test_data['GarageFinish'].replace({'No':0,'Unf':1,'RFn':2,'Fin':3},inplace=True)\n",
    "test_data['GarageQual'].replace(ExQuD,inplace=True)\n",
    "test_data['GarageCond'].replace(ExQuD,inplace=True)\n",
    "test_data['PavedDrive'].replace({'N':0,'P':1,'Y':2},inplace=True)\n",
    "test_data['PoolQC'].replace(ExQuD,inplace=True)\n",
    "test_data['Fence'].replace({'NoFence':0,'MnWw':1,'GdWo':2,'MnPrv':3,'GdPrv':4},inplace=True)"
   ]
  },
  {
   "cell_type": "code",
   "execution_count": 88,
   "metadata": {},
   "outputs": [],
   "source": [
    "#training_data['BsmtFinType1'].replace({'No':0,'Rec':1,'BLQ':2,'LwQ':3,'ALQ':4,'Unf':5,'GLQ':6},inplace=True)\n",
    "#training_data['BsmtFinType2'].replace({'No':0,'Rec':1,'BLQ':2,'LwQ':3,'ALQ':4,'Unf':5,'GLQ':6},inplace=True)\n",
    "#test_data['BsmtFinType1'].replace({'No':0,'Rec':1,'BLQ':2,'LwQ':3,'ALQ':4,'Unf':5,'GLQ':6},inplace=True)\n",
    "#test_data['BsmtFinType2'].replace({'No':0,'Rec':1,'BLQ':2,'LwQ':3,'ALQ':4,'Unf':5,'GLQ':6},inplace=True)"
   ]
  },
  {
   "cell_type": "markdown",
   "metadata": {},
   "source": [
    "Conversely, the feature MSSubClass is encoded as a number, but actually describes completely separate categories of house type. We wil convert this numerical feature into a categorical one."
   ]
  },
  {
   "cell_type": "code",
   "execution_count": 310,
   "metadata": {},
   "outputs": [],
   "source": [
    "\n",
    "training_data['MSSubClass'].replace({20 : \"1-STORY 1946 & NEWER ALL STYLES\", 30 : \"1-STORY 1945 & OLDER\", \n",
    "                                     40 : \"1-STORY W/FINISHED ATTIC ALL AGES\", 45 : \"1-1/2 STORY - UNFINISHED ALL AGES\", \n",
    "                                     50 : \"1-1/2 STORY FINISHED ALL AGES\", 60 : \"2-STORY 1946 & NEWER\",\n",
    "                                     70 : \"2-STORY 1945 & OLDER\", 75 : \"2-1/2 STORY ALL AGES\", \n",
    "                                     80 : \"SPLIT OR MULTI-LEVEL\", 85 : \"SPLIT FOYER\",\n",
    "                                     90 : \"DUPLEX - ALL STYLES AND AGES\", \n",
    "                                     120 : \"1-STORY PUD (Planned Unit Development) - 1946 & NEWER\", \n",
    "                                     150 : \"1-1/2 STORY PUD - ALL AGES\", \n",
    "                                     160 : \"2-STORY PUD - 1946 & NEWER\",\n",
    "                                     180 : \"PUD - MULTILEVEL - INCL SPLIT LEV/FOYER\", \n",
    "                                     190 : \"2 FAMILY CONVERSION - ALL STYLES AND AGES\"},inplace=True)\n",
    "\n",
    "test_data['MSSubClass'].replace({20 : \"1-STORY 1946 & NEWER ALL STYLES\", 30 : \"1-STORY 1945 & OLDER\", \n",
    "                                     40 : \"1-STORY W/FINISHED ATTIC ALL AGES\", 45 : \"1-1/2 STORY - UNFINISHED ALL AGES\", \n",
    "                                     50 : \"1-1/2 STORY FINISHED ALL AGES\", 60 : \"2-STORY 1946 & NEWER\",\n",
    "                                     70 : \"2-STORY 1945 & OLDER\", 75 : \"2-1/2 STORY ALL AGES\", \n",
    "                                     80 : \"SPLIT OR MULTI-LEVEL\", 85 : \"SPLIT FOYER\",\n",
    "                                     90 : \"DUPLEX - ALL STYLES AND AGES\", \n",
    "                                     120 : \"1-STORY PUD (Planned Unit Development) - 1946 & NEWER\", \n",
    "                                     150 : \"1-1/2 STORY PUD - ALL AGES\", \n",
    "                                     160 : \"2-STORY PUD - 1946 & NEWER\",\n",
    "                                     180 : \"PUD - MULTILEVEL - INCL SPLIT LEV/FOYER\", \n",
    "                                     190 : \"2 FAMILY CONVERSION - ALL STYLES AND AGES\"},inplace=True)\n"
   ]
  },
  {
   "cell_type": "markdown",
   "metadata": {},
   "source": [
    "# Concatenating Train and Test Data \n",
    "(For the next couple manipulations)"
   ]
  },
  {
   "cell_type": "code",
   "execution_count": 311,
   "metadata": {},
   "outputs": [
    {
     "data": {
      "text/plain": [
       "(1457, 80)"
      ]
     },
     "execution_count": 311,
     "metadata": {},
     "output_type": "execute_result"
    }
   ],
   "source": [
    "training_data.shape"
   ]
  },
  {
   "cell_type": "code",
   "execution_count": 312,
   "metadata": {},
   "outputs": [
    {
     "data": {
      "text/plain": [
       "(1459, 79)"
      ]
     },
     "execution_count": 312,
     "metadata": {},
     "output_type": "execute_result"
    }
   ],
   "source": [
    "test_data.shape"
   ]
  },
  {
   "cell_type": "code",
   "execution_count": 313,
   "metadata": {},
   "outputs": [],
   "source": [
    "data=pd.concat([training_data.drop('SalePrice',axis=1),test_data])"
   ]
  },
  {
   "cell_type": "markdown",
   "metadata": {},
   "source": [
    "# Looking at Gaussian skew"
   ]
  },
  {
   "cell_type": "code",
   "execution_count": 36,
   "metadata": {},
   "outputs": [
    {
     "name": "stderr",
     "output_type": "stream",
     "text": [
      "C:\\ProgramData\\Anaconda3\\lib\\site-packages\\scipy\\stats\\stats.py:1713: FutureWarning: Using a non-tuple sequence for multidimensional indexing is deprecated; use `arr[tuple(seq)]` instead of `arr[seq]`. In the future this will be interpreted as an array index, `arr[np.array(seq)]`, which will result either in an error or a different result.\n",
      "  return np.add.reduce(sorted[indexer] * weights, axis=axis) / sumval\n"
     ]
    },
    {
     "data": {
      "image/png": "[encoded data removed]",
      "text/plain": [
       "<Figure size 640x480 with 1 Axes>"
      ]
     },
     "metadata": {},
     "output_type": "display_data"
    },
    {
     "data": {
      "image/png": "[encoded data removed]",
      "text/plain": [
       "<Figure size 640x480 with 1 Axes>"
      ]
     },
     "metadata": {},
     "output_type": "display_data"
    }
   ],
   "source": [
    "sns.distplot(training_data['SalePrice'],fit=norm)\n",
    "fig = plt.figure()\n",
    "res = stats.probplot(training_data['SalePrice'], plot=plt)"
   ]
  },
  {
   "cell_type": "markdown",
   "metadata": {},
   "source": [
    "On Visual inspection, we can see that Sale Price does not have a perfectly normal distribution. It is skewed to the right. We can confirm this further with a Q-Q plot."
   ]
  },
  {
   "cell_type": "code",
   "execution_count": 314,
   "metadata": {},
   "outputs": [
    {
     "data": {
      "text/plain": [
       "1.8778593479363705"
      ]
     },
     "execution_count": 314,
     "metadata": {},
     "output_type": "execute_result"
    }
   ],
   "source": [
    "skew(training_data['SalePrice'])"
   ]
  },
  {
   "cell_type": "markdown",
   "metadata": {},
   "source": [
    "Try log transformation:"
   ]
  },
  {
   "cell_type": "code",
   "execution_count": 260,
   "metadata": {},
   "outputs": [
    {
     "name": "stderr",
     "output_type": "stream",
     "text": [
      "C:\\ProgramData\\Anaconda3\\lib\\site-packages\\scipy\\stats\\stats.py:1713: FutureWarning: Using a non-tuple sequence for multidimensional indexing is deprecated; use `arr[tuple(seq)]` instead of `arr[seq]`. In the future this will be interpreted as an array index, `arr[np.array(seq)]`, which will result either in an error or a different result.\n",
      "  return np.add.reduce(sorted[indexer] * weights, axis=axis) / sumval\n"
     ]
    },
    {
     "data": {
      "image/png": "[encoded data removed]",
      "text/plain": [
       "<Figure size 640x480 with 1 Axes>"
      ]
     },
     "metadata": {},
     "output_type": "display_data"
    },
    {
     "data": {
      "image/png": "[encoded data removed]",
      "text/plain": [
       "<Figure size 640x480 with 1 Axes>"
      ]
     },
     "metadata": {},
     "output_type": "display_data"
    }
   ],
   "source": [
    "sns.distplot(np.log(training_data['SalePrice']),fit=norm)\n",
    "fig = plt.figure()\n",
    "res = stats.probplot(np.log(training_data['SalePrice']), plot=plt)"
   ]
  },
  {
   "cell_type": "markdown",
   "metadata": {},
   "source": [
    "The result is a more normal distribution. We will use the common rule of thumb and apply this transformation to all features with greater than 0.5 skew. Many of them contain zero, so we must use log1p = log(x + 1)"
   ]
  },
  {
   "cell_type": "code",
   "execution_count": 315,
   "metadata": {},
   "outputs": [],
   "source": [
    "training_data['SalePrice']=np.log(training_data['SalePrice'])"
   ]
  },
  {
   "cell_type": "code",
   "execution_count": 316,
   "metadata": {},
   "outputs": [
    {
     "data": {
      "text/plain": [
       "Index(['LotFrontage', 'LotArea', 'OverallQual', 'OverallCond', 'YearBuilt',\n",
       "       'YearRemodAdd', 'MasVnrArea', 'ExterQual', 'ExterCond', 'BsmtQual',\n",
       "       'BsmtCond', 'BsmtExposure', 'BsmtFinSF1', 'BsmtFinSF2', 'BsmtUnfSF',\n",
       "       'TotalBsmtSF', 'HeatingQC', 'CentralAir', '1stFlrSF', '2ndFlrSF',\n",
       "       'LowQualFinSF', 'GrLivArea', 'BsmtFullBath', 'BsmtHalfBath', 'FullBath',\n",
       "       'HalfBath', 'BedroomAbvGr', 'KitchenAbvGr', 'KitchenQual',\n",
       "       'TotRmsAbvGrd', 'Functional', 'Fireplaces', 'FireplaceQu',\n",
       "       'GarageYrBlt', 'GarageFinish', 'GarageCars', 'GarageArea', 'GarageQual',\n",
       "       'GarageCond', 'PavedDrive', 'WoodDeckSF', 'OpenPorchSF',\n",
       "       'EnclosedPorch', '3SsnPorch', 'ScreenPorch', 'PoolArea', 'PoolQC',\n",
       "       'Fence', 'MiscVal', 'MoSold', 'YrSold'],\n",
       "      dtype='object')"
      ]
     },
     "execution_count": 316,
     "metadata": {},
     "output_type": "execute_result"
    }
   ],
   "source": [
    "num_features=test_data.select_dtypes(exclude=object).columns\n",
    "num_features"
   ]
  },
  {
   "cell_type": "code",
   "execution_count": 317,
   "metadata": {
    "scrolled": true
   },
   "outputs": [
    {
     "data": {
      "text/plain": [
       "'YrSold'"
      ]
     },
     "execution_count": 317,
     "metadata": {},
     "output_type": "execute_result"
    }
   ],
   "source": [
    "skewed=[]\n",
    "for col in num_features:\n",
    "    if abs(skew(data[col]))>0.5:\n",
    "        data[col]=np.log1p(data[col])\n",
    "        skewed.append(col)\n",
    "        latestfeat= col\n",
    "skewed"
   ]
  },
  {
   "cell_type": "code",
   "execution_count": 318,
   "metadata": {},
   "outputs": [
    {
     "data": {
      "text/plain": [
       "['LotArea',\n",
       " 'OverallCond',\n",
       " 'YearBuilt',\n",
       " 'MasVnrArea',\n",
       " 'ExterQual',\n",
       " 'ExterCond',\n",
       " 'BsmtQual',\n",
       " 'BsmtCond',\n",
       " 'BsmtExposure',\n",
       " 'BsmtFinSF1',\n",
       " 'BsmtFinSF2',\n",
       " 'BsmtUnfSF',\n",
       " 'TotalBsmtSF',\n",
       " 'HeatingQC',\n",
       " 'CentralAir',\n",
       " '1stFlrSF',\n",
       " '2ndFlrSF',\n",
       " 'LowQualFinSF',\n",
       " 'GrLivArea',\n",
       " 'BsmtFullBath',\n",
       " 'BsmtHalfBath',\n",
       " 'HalfBath',\n",
       " 'KitchenAbvGr',\n",
       " 'TotRmsAbvGrd',\n",
       " 'Functional',\n",
       " 'Fireplaces',\n",
       " 'GarageQual',\n",
       " 'GarageCond',\n",
       " 'PavedDrive',\n",
       " 'WoodDeckSF',\n",
       " 'OpenPorchSF',\n",
       " 'EnclosedPorch',\n",
       " '3SsnPorch',\n",
       " 'ScreenPorch',\n",
       " 'PoolArea',\n",
       " 'PoolQC',\n",
       " 'Fence',\n",
       " 'MiscVal']"
      ]
     },
     "execution_count": 318,
     "metadata": {},
     "output_type": "execute_result"
    }
   ],
   "source": [
    "skewed"
   ]
  },
  {
   "cell_type": "code",
   "execution_count": 319,
   "metadata": {},
   "outputs": [
    {
     "data": {
      "text/plain": [
       "38"
      ]
     },
     "execution_count": 319,
     "metadata": {},
     "output_type": "execute_result"
    }
   ],
   "source": [
    "len(skewed)"
   ]
  },
  {
   "cell_type": "markdown",
   "metadata": {},
   "source": [
    "# One-hot / get dummies transformation"
   ]
  },
  {
   "cell_type": "code",
   "execution_count": 320,
   "metadata": {},
   "outputs": [
    {
     "name": "stdout",
     "output_type": "stream",
     "text": [
      "<class 'pandas.core.frame.DataFrame'>\n",
      "Int64Index: 2916 entries, 1 to 2919\n",
      "Columns: 257 entries, LotFrontage to SaleCondition_Partial\n",
      "dtypes: float64(42), int64(9), uint8(206)\n",
      "memory usage: 1.7 MB\n"
     ]
    }
   ],
   "source": [
    "onehot_data=pd.get_dummies(data)\n",
    "onehot_data.info()"
   ]
  },
  {
   "cell_type": "markdown",
   "metadata": {},
   "source": [
    "Re-split into training and test"
   ]
  },
  {
   "cell_type": "code",
   "execution_count": 321,
   "metadata": {},
   "outputs": [],
   "source": [
    "X_test=onehot_data.iloc[1457:]\n",
    "X=onehot_data.iloc[:1457]\n",
    "y=training_data['SalePrice']"
   ]
  },
  {
   "cell_type": "code",
   "execution_count": 322,
   "metadata": {},
   "outputs": [
    {
     "data": {
      "text/html": [
       "<div>\n",
       "<style scoped>\n",
       "    .dataframe tbody tr th:only-of-type {\n",
       "        vertical-align: middle;\n",
       "    }\n",
       "\n",
       "    .dataframe tbody tr th {\n",
       "        vertical-align: top;\n",
       "    }\n",
       "\n",
       "    .dataframe thead th {\n",
       "        text-align: right;\n",
       "    }\n",
       "</style>\n",
       "<table border=\"1\" class=\"dataframe\">\n",
       "  <thead>\n",
       "    <tr style=\"text-align: right;\">\n",
       "      <th></th>\n",
       "      <th>LotFrontage</th>\n",
       "      <th>LotArea</th>\n",
       "      <th>OverallQual</th>\n",
       "      <th>OverallCond</th>\n",
       "      <th>YearBuilt</th>\n",
       "      <th>YearRemodAdd</th>\n",
       "      <th>MasVnrArea</th>\n",
       "      <th>ExterQual</th>\n",
       "      <th>ExterCond</th>\n",
       "      <th>BsmtQual</th>\n",
       "      <th>...</th>\n",
       "      <th>SaleType_ConLw</th>\n",
       "      <th>SaleType_New</th>\n",
       "      <th>SaleType_Oth</th>\n",
       "      <th>SaleType_WD</th>\n",
       "      <th>SaleCondition_Abnorml</th>\n",
       "      <th>SaleCondition_AdjLand</th>\n",
       "      <th>SaleCondition_Alloca</th>\n",
       "      <th>SaleCondition_Family</th>\n",
       "      <th>SaleCondition_Normal</th>\n",
       "      <th>SaleCondition_Partial</th>\n",
       "    </tr>\n",
       "  </thead>\n",
       "  <tbody>\n",
       "    <tr>\n",
       "      <th>count</th>\n",
       "      <td>1459.000000</td>\n",
       "      <td>1459.000000</td>\n",
       "      <td>1459.000000</td>\n",
       "      <td>1459.000000</td>\n",
       "      <td>1459.000000</td>\n",
       "      <td>1459.000000</td>\n",
       "      <td>1459.000000</td>\n",
       "      <td>1459.000000</td>\n",
       "      <td>1459.000000</td>\n",
       "      <td>1459.000000</td>\n",
       "      <td>...</td>\n",
       "      <td>1459.000000</td>\n",
       "      <td>1459.000000</td>\n",
       "      <td>1459.000000</td>\n",
       "      <td>1459.00000</td>\n",
       "      <td>1459.000000</td>\n",
       "      <td>1459.000000</td>\n",
       "      <td>1459.000000</td>\n",
       "      <td>1459.000000</td>\n",
       "      <td>1459.000000</td>\n",
       "      <td>1459.000000</td>\n",
       "    </tr>\n",
       "    <tr>\n",
       "      <th>mean</th>\n",
       "      <td>57.910212</td>\n",
       "      <td>9.078854</td>\n",
       "      <td>6.078821</td>\n",
       "      <td>1.865037</td>\n",
       "      <td>7.586866</td>\n",
       "      <td>1983.662783</td>\n",
       "      <td>2.038185</td>\n",
       "      <td>1.472533</td>\n",
       "      <td>1.403556</td>\n",
       "      <td>1.462499</td>\n",
       "      <td>...</td>\n",
       "      <td>0.002056</td>\n",
       "      <td>0.080192</td>\n",
       "      <td>0.002742</td>\n",
       "      <td>0.86292</td>\n",
       "      <td>0.061001</td>\n",
       "      <td>0.005483</td>\n",
       "      <td>0.008225</td>\n",
       "      <td>0.017820</td>\n",
       "      <td>0.825223</td>\n",
       "      <td>0.082248</td>\n",
       "    </tr>\n",
       "    <tr>\n",
       "      <th>std</th>\n",
       "      <td>32.266054</td>\n",
       "      <td>0.501942</td>\n",
       "      <td>1.436812</td>\n",
       "      <td>0.177850</td>\n",
       "      <td>0.015481</td>\n",
       "      <td>21.130467</td>\n",
       "      <td>2.613299</td>\n",
       "      <td>0.129306</td>\n",
       "      <td>0.093887</td>\n",
       "      <td>0.301373</td>\n",
       "      <td>...</td>\n",
       "      <td>0.045314</td>\n",
       "      <td>0.271683</td>\n",
       "      <td>0.052306</td>\n",
       "      <td>0.34405</td>\n",
       "      <td>0.239414</td>\n",
       "      <td>0.073871</td>\n",
       "      <td>0.090348</td>\n",
       "      <td>0.132344</td>\n",
       "      <td>0.379907</td>\n",
       "      <td>0.274837</td>\n",
       "    </tr>\n",
       "    <tr>\n",
       "      <th>min</th>\n",
       "      <td>0.000000</td>\n",
       "      <td>7.293698</td>\n",
       "      <td>1.000000</td>\n",
       "      <td>0.693147</td>\n",
       "      <td>7.539027</td>\n",
       "      <td>1950.000000</td>\n",
       "      <td>0.000000</td>\n",
       "      <td>1.098612</td>\n",
       "      <td>0.693147</td>\n",
       "      <td>0.000000</td>\n",
       "      <td>...</td>\n",
       "      <td>0.000000</td>\n",
       "      <td>0.000000</td>\n",
       "      <td>0.000000</td>\n",
       "      <td>0.00000</td>\n",
       "      <td>0.000000</td>\n",
       "      <td>0.000000</td>\n",
       "      <td>0.000000</td>\n",
       "      <td>0.000000</td>\n",
       "      <td>0.000000</td>\n",
       "      <td>0.000000</td>\n",
       "    </tr>\n",
       "    <tr>\n",
       "      <th>25%</th>\n",
       "      <td>44.000000</td>\n",
       "      <td>8.908154</td>\n",
       "      <td>5.000000</td>\n",
       "      <td>1.791759</td>\n",
       "      <td>7.577634</td>\n",
       "      <td>1963.000000</td>\n",
       "      <td>0.000000</td>\n",
       "      <td>1.386294</td>\n",
       "      <td>1.386294</td>\n",
       "      <td>1.386294</td>\n",
       "      <td>...</td>\n",
       "      <td>0.000000</td>\n",
       "      <td>0.000000</td>\n",
       "      <td>0.000000</td>\n",
       "      <td>1.00000</td>\n",
       "      <td>0.000000</td>\n",
       "      <td>0.000000</td>\n",
       "      <td>0.000000</td>\n",
       "      <td>0.000000</td>\n",
       "      <td>1.000000</td>\n",
       "      <td>0.000000</td>\n",
       "    </tr>\n",
       "    <tr>\n",
       "      <th>50%</th>\n",
       "      <td>63.000000</td>\n",
       "      <td>9.148465</td>\n",
       "      <td>6.000000</td>\n",
       "      <td>1.791759</td>\n",
       "      <td>7.587817</td>\n",
       "      <td>1992.000000</td>\n",
       "      <td>0.000000</td>\n",
       "      <td>1.386294</td>\n",
       "      <td>1.386294</td>\n",
       "      <td>1.386294</td>\n",
       "      <td>...</td>\n",
       "      <td>0.000000</td>\n",
       "      <td>0.000000</td>\n",
       "      <td>0.000000</td>\n",
       "      <td>1.00000</td>\n",
       "      <td>0.000000</td>\n",
       "      <td>0.000000</td>\n",
       "      <td>0.000000</td>\n",
       "      <td>0.000000</td>\n",
       "      <td>1.000000</td>\n",
       "      <td>0.000000</td>\n",
       "    </tr>\n",
       "    <tr>\n",
       "      <th>75%</th>\n",
       "      <td>78.000000</td>\n",
       "      <td>9.351710</td>\n",
       "      <td>7.000000</td>\n",
       "      <td>1.945910</td>\n",
       "      <td>7.601902</td>\n",
       "      <td>2004.000000</td>\n",
       "      <td>5.093750</td>\n",
       "      <td>1.609438</td>\n",
       "      <td>1.386294</td>\n",
       "      <td>1.609438</td>\n",
       "      <td>...</td>\n",
       "      <td>0.000000</td>\n",
       "      <td>0.000000</td>\n",
       "      <td>0.000000</td>\n",
       "      <td>1.00000</td>\n",
       "      <td>0.000000</td>\n",
       "      <td>0.000000</td>\n",
       "      <td>0.000000</td>\n",
       "      <td>0.000000</td>\n",
       "      <td>1.000000</td>\n",
       "      <td>0.000000</td>\n",
       "    </tr>\n",
       "    <tr>\n",
       "      <th>max</th>\n",
       "      <td>200.000000</td>\n",
       "      <td>10.943782</td>\n",
       "      <td>10.000000</td>\n",
       "      <td>2.302585</td>\n",
       "      <td>7.606387</td>\n",
       "      <td>2010.000000</td>\n",
       "      <td>7.163172</td>\n",
       "      <td>1.791759</td>\n",
       "      <td>1.791759</td>\n",
       "      <td>1.791759</td>\n",
       "      <td>...</td>\n",
       "      <td>1.000000</td>\n",
       "      <td>1.000000</td>\n",
       "      <td>1.000000</td>\n",
       "      <td>1.00000</td>\n",
       "      <td>1.000000</td>\n",
       "      <td>1.000000</td>\n",
       "      <td>1.000000</td>\n",
       "      <td>1.000000</td>\n",
       "      <td>1.000000</td>\n",
       "      <td>1.000000</td>\n",
       "    </tr>\n",
       "  </tbody>\n",
       "</table>\n",
       "<p>8 rows × 257 columns</p>\n",
       "</div>"
      ],
      "text/plain": [
       "       LotFrontage      LotArea  OverallQual  OverallCond    YearBuilt  \\\n",
       "count  1459.000000  1459.000000  1459.000000  1459.000000  1459.000000   \n",
       "mean     57.910212     9.078854     6.078821     1.865037     7.586866   \n",
       "std      32.266054     0.501942     1.436812     0.177850     0.015481   \n",
       "min       0.000000     7.293698     1.000000     0.693147     7.539027   \n",
       "25%      44.000000     8.908154     5.000000     1.791759     7.577634   \n",
       "50%      63.000000     9.148465     6.000000     1.791759     7.587817   \n",
       "75%      78.000000     9.351710     7.000000     1.945910     7.601902   \n",
       "max     200.000000    10.943782    10.000000     2.302585     7.606387   \n",
       "\n",
       "       YearRemodAdd   MasVnrArea    ExterQual    ExterCond     BsmtQual  \\\n",
       "count   1459.000000  1459.000000  1459.000000  1459.000000  1459.000000   \n",
       "mean    1983.662783     2.038185     1.472533     1.403556     1.462499   \n",
       "std       21.130467     2.613299     0.129306     0.093887     0.301373   \n",
       "min     1950.000000     0.000000     1.098612     0.693147     0.000000   \n",
       "25%     1963.000000     0.000000     1.386294     1.386294     1.386294   \n",
       "50%     1992.000000     0.000000     1.386294     1.386294     1.386294   \n",
       "75%     2004.000000     5.093750     1.609438     1.386294     1.609438   \n",
       "max     2010.000000     7.163172     1.791759     1.791759     1.791759   \n",
       "\n",
       "               ...            SaleType_ConLw  SaleType_New  SaleType_Oth  \\\n",
       "count          ...               1459.000000   1459.000000   1459.000000   \n",
       "mean           ...                  0.002056      0.080192      0.002742   \n",
       "std            ...                  0.045314      0.271683      0.052306   \n",
       "min            ...                  0.000000      0.000000      0.000000   \n",
       "25%            ...                  0.000000      0.000000      0.000000   \n",
       "50%            ...                  0.000000      0.000000      0.000000   \n",
       "75%            ...                  0.000000      0.000000      0.000000   \n",
       "max            ...                  1.000000      1.000000      1.000000   \n",
       "\n",
       "       SaleType_WD  SaleCondition_Abnorml  SaleCondition_AdjLand  \\\n",
       "count   1459.00000            1459.000000            1459.000000   \n",
       "mean       0.86292               0.061001               0.005483   \n",
       "std        0.34405               0.239414               0.073871   \n",
       "min        0.00000               0.000000               0.000000   \n",
       "25%        1.00000               0.000000               0.000000   \n",
       "50%        1.00000               0.000000               0.000000   \n",
       "75%        1.00000               0.000000               0.000000   \n",
       "max        1.00000               1.000000               1.000000   \n",
       "\n",
       "       SaleCondition_Alloca  SaleCondition_Family  SaleCondition_Normal  \\\n",
       "count           1459.000000           1459.000000           1459.000000   \n",
       "mean               0.008225              0.017820              0.825223   \n",
       "std                0.090348              0.132344              0.379907   \n",
       "min                0.000000              0.000000              0.000000   \n",
       "25%                0.000000              0.000000              1.000000   \n",
       "50%                0.000000              0.000000              1.000000   \n",
       "75%                0.000000              0.000000              1.000000   \n",
       "max                1.000000              1.000000              1.000000   \n",
       "\n",
       "       SaleCondition_Partial  \n",
       "count            1459.000000  \n",
       "mean                0.082248  \n",
       "std                 0.274837  \n",
       "min                 0.000000  \n",
       "25%                 0.000000  \n",
       "50%                 0.000000  \n",
       "75%                 0.000000  \n",
       "max                 1.000000  \n",
       "\n",
       "[8 rows x 257 columns]"
      ]
     },
     "execution_count": 322,
     "metadata": {},
     "output_type": "execute_result"
    }
   ],
   "source": [
    "X_test.describe()"
   ]
  },
  {
   "cell_type": "code",
   "execution_count": 81,
   "metadata": {},
   "outputs": [
    {
     "data": {
      "text/plain": [
       "count    1457.000000\n",
       "mean       12.024005\n",
       "std         0.399853\n",
       "min        10.460242\n",
       "25%        11.774520\n",
       "50%        12.001505\n",
       "75%        12.273731\n",
       "max        13.534473\n",
       "Name: SalePrice, dtype: float64"
      ]
     },
     "execution_count": 81,
     "metadata": {},
     "output_type": "execute_result"
    }
   ],
   "source": [
    "y.describe()"
   ]
  },
  {
   "cell_type": "markdown",
   "metadata": {},
   "source": [
    "# Training the Linear Regression"
   ]
  },
  {
   "cell_type": "markdown",
   "metadata": {},
   "source": [
    "# Lasso Regression"
   ]
  },
  {
   "cell_type": "markdown",
   "metadata": {},
   "source": [
    "To find alpha: First search in logspace, than a more fine grain search in linear space."
   ]
  },
  {
   "cell_type": "code",
   "execution_count": 323,
   "metadata": {},
   "outputs": [
    {
     "data": {
      "text/plain": [
       "array([1.00000000e-04, 3.16227766e-04, 1.00000000e-03, 3.16227766e-03,\n",
       "       1.00000000e-02, 3.16227766e-02, 1.00000000e-01, 3.16227766e-01,\n",
       "       1.00000000e+00, 3.16227766e+00, 1.00000000e+01, 3.16227766e+01,\n",
       "       1.00000000e+02, 3.16227766e+02, 1.00000000e+03])"
      ]
     },
     "execution_count": 323,
     "metadata": {},
     "output_type": "execute_result"
    }
   ],
   "source": [
    "alphas = np.logspace(-4,3,15)\n",
    "#alphas = np.linspace(2.5e-4,3.5e-4,11)\n",
    "alphas"
   ]
  },
  {
   "cell_type": "code",
   "execution_count": 341,
   "metadata": {},
   "outputs": [
    {
     "name": "stdout",
     "output_type": "stream",
     "text": [
      "Converged to an alpha of 0.00031622776601683794.\n",
      "Lasso has reduced the original features to 119 features out of 257\n",
      "R Score: 0.9322730407431158\n",
      "RMSE of the log: 0.008738481281314794\n"
     ]
    }
   ],
   "source": [
    "lasso=LassoCV(cv=5,alphas=alphas).fit(X,y)\n",
    "print('Converged to an alpha of '+str(lasso.alpha_)+'.')\n",
    "print('Lasso has reduced the original features to ' + str(sum(lasso.coef_!=0)) + \n",
    "      ' features out of ' + str(len(lasso.coef_)))\n",
    "y_pred=lasso.predict(X)\n",
    "print('R Score: '+str(lasso.score(X,y)))\n",
    "print('RMSE of the log: ' + str(np.sqrt(metrics.mean_squared_error(np.log(y),\n",
    "                        np.log(y_pred)))))"
   ]
  },
  {
   "cell_type": "markdown",
   "metadata": {},
   "source": [
    "Looking at the resulting Coefficients:"
   ]
  },
  {
   "cell_type": "code",
   "execution_count": 325,
   "metadata": {},
   "outputs": [
    {
     "data": {
      "text/html": [
       "<div>\n",
       "<style scoped>\n",
       "    .dataframe tbody tr th:only-of-type {\n",
       "        vertical-align: middle;\n",
       "    }\n",
       "\n",
       "    .dataframe tbody tr th {\n",
       "        vertical-align: top;\n",
       "    }\n",
       "\n",
       "    .dataframe thead th {\n",
       "        text-align: right;\n",
       "    }\n",
       "</style>\n",
       "<table border=\"1\" class=\"dataframe\">\n",
       "  <thead>\n",
       "    <tr style=\"text-align: right;\">\n",
       "      <th></th>\n",
       "      <th>Coeff</th>\n",
       "    </tr>\n",
       "  </thead>\n",
       "  <tbody>\n",
       "    <tr>\n",
       "      <th>GrLivArea</th>\n",
       "      <td>0.381468</td>\n",
       "    </tr>\n",
       "    <tr>\n",
       "      <th>OverallCond</th>\n",
       "      <td>0.204328</td>\n",
       "    </tr>\n",
       "    <tr>\n",
       "      <th>Functional</th>\n",
       "      <td>0.189958</td>\n",
       "    </tr>\n",
       "    <tr>\n",
       "      <th>Neighborhood_StoneBr</th>\n",
       "      <td>0.124289</td>\n",
       "    </tr>\n",
       "    <tr>\n",
       "      <th>Neighborhood_NridgHt</th>\n",
       "      <td>0.100039</td>\n",
       "    </tr>\n",
       "    <tr>\n",
       "      <th>RoofMatl_WdShngl</th>\n",
       "      <td>0.098878</td>\n",
       "    </tr>\n",
       "    <tr>\n",
       "      <th>Neighborhood_Crawfor</th>\n",
       "      <td>0.095514</td>\n",
       "    </tr>\n",
       "    <tr>\n",
       "      <th>Neighborhood_NoRidge</th>\n",
       "      <td>0.093034</td>\n",
       "    </tr>\n",
       "    <tr>\n",
       "      <th>LotArea</th>\n",
       "      <td>0.073070</td>\n",
       "    </tr>\n",
       "    <tr>\n",
       "      <th>Exterior1st_BrkFace</th>\n",
       "      <td>0.064108</td>\n",
       "    </tr>\n",
       "    <tr>\n",
       "      <th>HeatingQC</th>\n",
       "      <td>0.063333</td>\n",
       "    </tr>\n",
       "    <tr>\n",
       "      <th>OverallQual</th>\n",
       "      <td>0.058775</td>\n",
       "    </tr>\n",
       "    <tr>\n",
       "      <th>CentralAir</th>\n",
       "      <td>0.055676</td>\n",
       "    </tr>\n",
       "    <tr>\n",
       "      <th>HalfBath</th>\n",
       "      <td>0.047823</td>\n",
       "    </tr>\n",
       "    <tr>\n",
       "      <th>Condition1_Norm</th>\n",
       "      <td>0.045925</td>\n",
       "    </tr>\n",
       "    <tr>\n",
       "      <th>1stFlrSF</th>\n",
       "      <td>0.043490</td>\n",
       "    </tr>\n",
       "    <tr>\n",
       "      <th>Neighborhood_Somerst</th>\n",
       "      <td>0.041457</td>\n",
       "    </tr>\n",
       "    <tr>\n",
       "      <th>Heating_GasW</th>\n",
       "      <td>0.039240</td>\n",
       "    </tr>\n",
       "    <tr>\n",
       "      <th>BsmtFinType2_No</th>\n",
       "      <td>0.037034</td>\n",
       "    </tr>\n",
       "    <tr>\n",
       "      <th>BsmtFullBath</th>\n",
       "      <td>0.036441</td>\n",
       "    </tr>\n",
       "    <tr>\n",
       "      <th>GarageCars</th>\n",
       "      <td>0.036362</td>\n",
       "    </tr>\n",
       "    <tr>\n",
       "      <th>Neighborhood_BrkSide</th>\n",
       "      <td>0.035803</td>\n",
       "    </tr>\n",
       "    <tr>\n",
       "      <th>FullBath</th>\n",
       "      <td>0.034857</td>\n",
       "    </tr>\n",
       "    <tr>\n",
       "      <th>Neighborhood_ClearCr</th>\n",
       "      <td>0.031485</td>\n",
       "    </tr>\n",
       "    <tr>\n",
       "      <th>LotConfig_CulDSac</th>\n",
       "      <td>0.030097</td>\n",
       "    </tr>\n",
       "    <tr>\n",
       "      <th>BsmtFinType2_ALQ</th>\n",
       "      <td>0.027736</td>\n",
       "    </tr>\n",
       "    <tr>\n",
       "      <th>KitchenQual</th>\n",
       "      <td>0.027633</td>\n",
       "    </tr>\n",
       "    <tr>\n",
       "      <th>BsmtExposure</th>\n",
       "      <td>0.027527</td>\n",
       "    </tr>\n",
       "    <tr>\n",
       "      <th>Exterior2nd_Wd Sdng</th>\n",
       "      <td>0.021499</td>\n",
       "    </tr>\n",
       "    <tr>\n",
       "      <th>BldgType_1Fam</th>\n",
       "      <td>0.020456</td>\n",
       "    </tr>\n",
       "    <tr>\n",
       "      <th>...</th>\n",
       "      <td>...</td>\n",
       "    </tr>\n",
       "    <tr>\n",
       "      <th>Neighborhood_Gilbert</th>\n",
       "      <td>-0.009108</td>\n",
       "    </tr>\n",
       "    <tr>\n",
       "      <th>Exterior1st_HdBoard</th>\n",
       "      <td>-0.010734</td>\n",
       "    </tr>\n",
       "    <tr>\n",
       "      <th>BsmtFinType1_Rec</th>\n",
       "      <td>-0.013489</td>\n",
       "    </tr>\n",
       "    <tr>\n",
       "      <th>BsmtFinType2_BLQ</th>\n",
       "      <td>-0.014505</td>\n",
       "    </tr>\n",
       "    <tr>\n",
       "      <th>Neighborhood_NAmes</th>\n",
       "      <td>-0.015761</td>\n",
       "    </tr>\n",
       "    <tr>\n",
       "      <th>LotConfig_FR2</th>\n",
       "      <td>-0.016727</td>\n",
       "    </tr>\n",
       "    <tr>\n",
       "      <th>Neighborhood_Mitchel</th>\n",
       "      <td>-0.018955</td>\n",
       "    </tr>\n",
       "    <tr>\n",
       "      <th>Neighborhood_IDOTRR</th>\n",
       "      <td>-0.020680</td>\n",
       "    </tr>\n",
       "    <tr>\n",
       "      <th>BsmtFinType1_LwQ</th>\n",
       "      <td>-0.021851</td>\n",
       "    </tr>\n",
       "    <tr>\n",
       "      <th>Condition1_Artery</th>\n",
       "      <td>-0.022311</td>\n",
       "    </tr>\n",
       "    <tr>\n",
       "      <th>Neighborhood_MeadowV</th>\n",
       "      <td>-0.024431</td>\n",
       "    </tr>\n",
       "    <tr>\n",
       "      <th>MSSubClass_1-STORY 1945 &amp; OLDER</th>\n",
       "      <td>-0.024933</td>\n",
       "    </tr>\n",
       "    <tr>\n",
       "      <th>MSZoning_RM</th>\n",
       "      <td>-0.024960</td>\n",
       "    </tr>\n",
       "    <tr>\n",
       "      <th>LandContour_Bnk</th>\n",
       "      <td>-0.025465</td>\n",
       "    </tr>\n",
       "    <tr>\n",
       "      <th>Neighborhood_NWAmes</th>\n",
       "      <td>-0.026802</td>\n",
       "    </tr>\n",
       "    <tr>\n",
       "      <th>MSSubClass_2-STORY PUD - 1946 &amp; NEWER</th>\n",
       "      <td>-0.027552</td>\n",
       "    </tr>\n",
       "    <tr>\n",
       "      <th>SaleCondition_Family</th>\n",
       "      <td>-0.029545</td>\n",
       "    </tr>\n",
       "    <tr>\n",
       "      <th>SaleType_COD</th>\n",
       "      <td>-0.033757</td>\n",
       "    </tr>\n",
       "    <tr>\n",
       "      <th>Condition1_RRAe</th>\n",
       "      <td>-0.033805</td>\n",
       "    </tr>\n",
       "    <tr>\n",
       "      <th>Exterior1st_Wd Sdng</th>\n",
       "      <td>-0.034328</td>\n",
       "    </tr>\n",
       "    <tr>\n",
       "      <th>GarageType_2Types</th>\n",
       "      <td>-0.034693</td>\n",
       "    </tr>\n",
       "    <tr>\n",
       "      <th>Foundation_BrkTil</th>\n",
       "      <td>-0.037797</td>\n",
       "    </tr>\n",
       "    <tr>\n",
       "      <th>SaleType_WD</th>\n",
       "      <td>-0.040811</td>\n",
       "    </tr>\n",
       "    <tr>\n",
       "      <th>KitchenAbvGr</th>\n",
       "      <td>-0.044576</td>\n",
       "    </tr>\n",
       "    <tr>\n",
       "      <th>Neighborhood_OldTown</th>\n",
       "      <td>-0.048102</td>\n",
       "    </tr>\n",
       "    <tr>\n",
       "      <th>SaleCondition_Abnorml</th>\n",
       "      <td>-0.053815</td>\n",
       "    </tr>\n",
       "    <tr>\n",
       "      <th>Neighborhood_Edwards</th>\n",
       "      <td>-0.055252</td>\n",
       "    </tr>\n",
       "    <tr>\n",
       "      <th>Condition2_PosN</th>\n",
       "      <td>-0.321565</td>\n",
       "    </tr>\n",
       "    <tr>\n",
       "      <th>MSZoning_C (all)</th>\n",
       "      <td>-0.336092</td>\n",
       "    </tr>\n",
       "    <tr>\n",
       "      <th>RoofMatl_ClyTile</th>\n",
       "      <td>-0.913591</td>\n",
       "    </tr>\n",
       "  </tbody>\n",
       "</table>\n",
       "<p>257 rows × 1 columns</p>\n",
       "</div>"
      ],
      "text/plain": [
       "                                          Coeff\n",
       "GrLivArea                              0.381468\n",
       "OverallCond                            0.204328\n",
       "Functional                             0.189958\n",
       "Neighborhood_StoneBr                   0.124289\n",
       "Neighborhood_NridgHt                   0.100039\n",
       "RoofMatl_WdShngl                       0.098878\n",
       "Neighborhood_Crawfor                   0.095514\n",
       "Neighborhood_NoRidge                   0.093034\n",
       "LotArea                                0.073070\n",
       "Exterior1st_BrkFace                    0.064108\n",
       "HeatingQC                              0.063333\n",
       "OverallQual                            0.058775\n",
       "CentralAir                             0.055676\n",
       "HalfBath                               0.047823\n",
       "Condition1_Norm                        0.045925\n",
       "1stFlrSF                               0.043490\n",
       "Neighborhood_Somerst                   0.041457\n",
       "Heating_GasW                           0.039240\n",
       "BsmtFinType2_No                        0.037034\n",
       "BsmtFullBath                           0.036441\n",
       "GarageCars                             0.036362\n",
       "Neighborhood_BrkSide                   0.035803\n",
       "FullBath                               0.034857\n",
       "Neighborhood_ClearCr                   0.031485\n",
       "LotConfig_CulDSac                      0.030097\n",
       "BsmtFinType2_ALQ                       0.027736\n",
       "KitchenQual                            0.027633\n",
       "BsmtExposure                           0.027527\n",
       "Exterior2nd_Wd Sdng                    0.021499\n",
       "BldgType_1Fam                          0.020456\n",
       "...                                         ...\n",
       "Neighborhood_Gilbert                  -0.009108\n",
       "Exterior1st_HdBoard                   -0.010734\n",
       "BsmtFinType1_Rec                      -0.013489\n",
       "BsmtFinType2_BLQ                      -0.014505\n",
       "Neighborhood_NAmes                    -0.015761\n",
       "LotConfig_FR2                         -0.016727\n",
       "Neighborhood_Mitchel                  -0.018955\n",
       "Neighborhood_IDOTRR                   -0.020680\n",
       "BsmtFinType1_LwQ                      -0.021851\n",
       "Condition1_Artery                     -0.022311\n",
       "Neighborhood_MeadowV                  -0.024431\n",
       "MSSubClass_1-STORY 1945 & OLDER       -0.024933\n",
       "MSZoning_RM                           -0.024960\n",
       "LandContour_Bnk                       -0.025465\n",
       "Neighborhood_NWAmes                   -0.026802\n",
       "MSSubClass_2-STORY PUD - 1946 & NEWER -0.027552\n",
       "SaleCondition_Family                  -0.029545\n",
       "SaleType_COD                          -0.033757\n",
       "Condition1_RRAe                       -0.033805\n",
       "Exterior1st_Wd Sdng                   -0.034328\n",
       "GarageType_2Types                     -0.034693\n",
       "Foundation_BrkTil                     -0.037797\n",
       "SaleType_WD                           -0.040811\n",
       "KitchenAbvGr                          -0.044576\n",
       "Neighborhood_OldTown                  -0.048102\n",
       "SaleCondition_Abnorml                 -0.053815\n",
       "Neighborhood_Edwards                  -0.055252\n",
       "Condition2_PosN                       -0.321565\n",
       "MSZoning_C (all)                      -0.336092\n",
       "RoofMatl_ClyTile                      -0.913591\n",
       "\n",
       "[257 rows x 1 columns]"
      ]
     },
     "execution_count": 325,
     "metadata": {},
     "output_type": "execute_result"
    }
   ],
   "source": [
    "cdf = pd.DataFrame(lasso.coef_,X.columns,columns=['Coeff'])\n",
    "cdf.sort_values('Coeff',ascending=False)"
   ]
  },
  {
   "cell_type": "code",
   "execution_count": 343,
   "metadata": {
    "scrolled": true
   },
   "outputs": [
    {
     "data": {
      "text/html": [
       "<div>\n",
       "<style scoped>\n",
       "    .dataframe tbody tr th:only-of-type {\n",
       "        vertical-align: middle;\n",
       "    }\n",
       "\n",
       "    .dataframe tbody tr th {\n",
       "        vertical-align: top;\n",
       "    }\n",
       "\n",
       "    .dataframe thead th {\n",
       "        text-align: right;\n",
       "    }\n",
       "</style>\n",
       "<table border=\"1\" class=\"dataframe\">\n",
       "  <thead>\n",
       "    <tr style=\"text-align: right;\">\n",
       "      <th></th>\n",
       "      <th>SalePrice</th>\n",
       "    </tr>\n",
       "    <tr>\n",
       "      <th>Id</th>\n",
       "      <th></th>\n",
       "    </tr>\n",
       "  </thead>\n",
       "  <tbody>\n",
       "    <tr>\n",
       "      <th>1461</th>\n",
       "      <td>116660.032940</td>\n",
       "    </tr>\n",
       "    <tr>\n",
       "      <th>1462</th>\n",
       "      <td>159189.578658</td>\n",
       "    </tr>\n",
       "    <tr>\n",
       "      <th>1463</th>\n",
       "      <td>180171.300094</td>\n",
       "    </tr>\n",
       "    <tr>\n",
       "      <th>1464</th>\n",
       "      <td>198885.492864</td>\n",
       "    </tr>\n",
       "    <tr>\n",
       "      <th>1465</th>\n",
       "      <td>208091.543395</td>\n",
       "    </tr>\n",
       "  </tbody>\n",
       "</table>\n",
       "</div>"
      ],
      "text/plain": [
       "          SalePrice\n",
       "Id                 \n",
       "1461  116660.032940\n",
       "1462  159189.578658\n",
       "1463  180171.300094\n",
       "1464  198885.492864\n",
       "1465  208091.543395"
      ]
     },
     "execution_count": 343,
     "metadata": {},
     "output_type": "execute_result"
    }
   ],
   "source": [
    "final_answers=lasso.predict(X_test)\n",
    "sub = pd.DataFrame({'Id':X_test.index,'SalePrice':final_answers})\n",
    "sub.set_index('Id',inplace=True)\n",
    "sub=np.exp(sub)\n",
    "sub.head()"
   ]
  },
  {
   "cell_type": "code",
   "execution_count": 344,
   "metadata": {},
   "outputs": [],
   "source": [
    "sub.to_csv('submission4.csv')"
   ]
  },
  {
   "cell_type": "markdown",
   "metadata": {},
   "source": [
    "# Elastic Net"
   ]
  },
  {
   "cell_type": "code",
   "execution_count": 106,
   "metadata": {},
   "outputs": [],
   "source": [
    "from sklearn.linear_model import ElasticNetCV"
   ]
  },
  {
   "cell_type": "code",
   "execution_count": 326,
   "metadata": {},
   "outputs": [
    {
     "name": "stderr",
     "output_type": "stream",
     "text": [
      "C:\\ProgramData\\Anaconda3\\lib\\site-packages\\sklearn\\linear_model\\coordinate_descent.py:492: ConvergenceWarning: Objective did not converge. You might want to increase the number of iterations. Fitting data with very small alpha may cause precision problems.\n",
      "  ConvergenceWarning)\n",
      "C:\\ProgramData\\Anaconda3\\lib\\site-packages\\sklearn\\linear_model\\coordinate_descent.py:492: ConvergenceWarning: Objective did not converge. You might want to increase the number of iterations. Fitting data with very small alpha may cause precision problems.\n",
      "  ConvergenceWarning)\n",
      "C:\\ProgramData\\Anaconda3\\lib\\site-packages\\sklearn\\linear_model\\coordinate_descent.py:492: ConvergenceWarning: Objective did not converge. You might want to increase the number of iterations. Fitting data with very small alpha may cause precision problems.\n",
      "  ConvergenceWarning)\n",
      "C:\\ProgramData\\Anaconda3\\lib\\site-packages\\sklearn\\linear_model\\coordinate_descent.py:492: ConvergenceWarning: Objective did not converge. You might want to increase the number of iterations. Fitting data with very small alpha may cause precision problems.\n",
      "  ConvergenceWarning)\n"
     ]
    }
   ],
   "source": [
    "alphas = np.logspace(-4,3,15)\n",
    "l1_ratio=[.1, .5, .7, .9, .95, .99, 1]\n",
    "elastic=ElasticNetCV(cv=5,alphas=alphas,l1_ratio=l1_ratio).fit(X,y)"
   ]
  },
  {
   "cell_type": "code",
   "execution_count": 327,
   "metadata": {},
   "outputs": [
    {
     "name": "stdout",
     "output_type": "stream",
     "text": [
      "Converged to an alpha of 0.00031622776601683794.\n",
      "Converged to an l1 ratio of 1.0.\n",
      "Lasso has reduced the original features to 119 features out of 257\n",
      "R Score: 0.9322730407431158\n",
      "RMSE of the log: 0.008738481281314794\n"
     ]
    }
   ],
   "source": [
    "print('Converged to an alpha of '+str(elastic.alpha_)+'.')\n",
    "print('Converged to an l1 ratio of '+str(elastic.l1_ratio_)+'.')\n",
    "print('Lasso has reduced the original features to ' + str(sum(elastic.coef_!=0)) + \n",
    "      ' features out of ' + str(len(elastic.coef_)))\n",
    "y_pred=elastic.predict(X)\n",
    "print('R Score: '+str(elastic.score(X,y)))\n",
    "print('RMSE of the log: ' + str(np.sqrt(metrics.mean_squared_error(np.log(y),\n",
    "                        np.log(y_pred)))))"
   ]
  },
  {
   "cell_type": "markdown",
   "metadata": {},
   "source": [
    "# Bayesian Ridge Regression"
   ]
  },
  {
   "cell_type": "code",
   "execution_count": 328,
   "metadata": {},
   "outputs": [],
   "source": [
    "from sklearn.linear_model import BayesianRidge"
   ]
  },
  {
   "cell_type": "code",
   "execution_count": 329,
   "metadata": {},
   "outputs": [],
   "source": [
    "bayes=BayesianRidge().fit(X,y)"
   ]
  },
  {
   "cell_type": "code",
   "execution_count": 331,
   "metadata": {},
   "outputs": [
    {
     "name": "stdout",
     "output_type": "stream",
     "text": [
      "Estimated precision of noise: 81.67722648955183.\n",
      "Estimated precision of weights 313.0834560375674.\n",
      "Lasso has reduced the original features to 257 features out of 257\n",
      "R Score: 0.9319393485593727\n",
      "RMSE of the log: 0.008743356736796857\n"
     ]
    }
   ],
   "source": [
    "print('Estimated precision of noise: '+str(bayes.alpha_)+'.')\n",
    "print('Estimated precision of weights '+str(bayes.lambda_)+'.')\n",
    "y_pred=bayes.predict(X)\n",
    "print('R Score: '+str(bayes.score(X,y)))\n",
    "print('RMSE of the log: ' + str(np.sqrt(metrics.mean_squared_error(np.log(y),\n",
    "                        np.log(y_pred)))))"
   ]
  },
  {
   "cell_type": "markdown",
   "metadata": {},
   "source": [
    "# Automatic Relevance Determination"
   ]
  },
  {
   "cell_type": "code",
   "execution_count": 332,
   "metadata": {},
   "outputs": [],
   "source": [
    "from sklearn.linear_model import ARDRegression"
   ]
  },
  {
   "cell_type": "code",
   "execution_count": 333,
   "metadata": {},
   "outputs": [],
   "source": [
    "ARD = ARDRegression().fit(X,y)"
   ]
  },
  {
   "cell_type": "code",
   "execution_count": 334,
   "metadata": {
    "scrolled": true
   },
   "outputs": [
    {
     "name": "stdout",
     "output_type": "stream",
     "text": [
      "Estimated precision of noise: 88.87078294279817.\n",
      "Estimated precision of weights [3.95867873e+05 1.91303412e+02 4.40306658e+02 1.22939878e+01\n",
      " 1.03685308e-01 3.47917198e+05 1.25030301e+05 6.58412078e+04\n",
      " 3.46463030e+04 1.10309029e+02 2.60663175e+05 8.12258630e+02\n",
      " 1.04662591e+04 4.98564477e+05 4.98740998e+04 9.26821427e+01\n",
      " 1.93394378e+02 2.54132630e+02 1.00440999e+05 1.11540228e+05\n",
      " 2.83683567e+04 6.02038847e+00 1.37208016e+02 2.50304777e+04\n",
      " 3.13200372e+03 1.03620082e+03 3.57358173e+04 2.98220764e+01\n",
      " 1.06353304e+03 1.95029174e+04 2.32690933e+01 5.74951809e+02\n",
      " 4.98769826e+05 4.57117962e+05 1.46607485e+04 3.71137964e+02\n",
      " 1.04099177e+05 2.29027356e+04 1.36684419e+05 1.01145219e+04\n",
      " 8.62257666e+04 2.13109564e+05 2.68293045e+05 3.61038336e+04\n",
      " 1.31457898e+04 2.06608368e+04 8.16068079e+01 5.01002056e+04\n",
      " 1.06345898e+05 2.47637178e+05 7.99191919e+04 1.66310636e+04\n",
      " 1.08349895e+04 1.00000000e+00 1.43251253e+05 2.44283928e+03\n",
      " 4.27279518e+04 9.09092258e+03 2.39878745e+04 1.66113004e+04\n",
      " 1.42212214e+04 1.34411184e+05 3.99751395e+02 1.13825407e+04\n",
      " 1.10016499e+04 2.48034449e+04 1.96574711e+04 7.25449914e+00\n",
      " 3.15077314e+02 5.79362742e+04 1.43257022e+04 4.34650664e+03\n",
      " 1.30200244e+03 1.30200244e+03 1.29489399e+04 1.42291492e+04\n",
      " 2.07644739e+04 2.46615577e+04 1.09530941e+04 3.67195595e+05\n",
      " 3.54347279e+05 1.11824802e+04 1.05102850e+04 8.76108891e+04\n",
      " 2.08266625e+04 2.81616726e+02 2.81616726e+02 7.77074507e+04\n",
      " 8.59858295e+02 1.08557055e+04 4.24816920e+02 3.34235480e+04\n",
      " 5.19982071e+04 1.71373639e+03 1.99690925e+04 1.27052958e+04\n",
      " 1.32047975e+04 2.05892780e+04 3.31698427e+04 1.92301013e+03\n",
      " 3.16140609e+04 8.27895029e+01 4.28898527e+02 4.01795516e+04\n",
      " 7.45754033e+02 1.23553776e+02 9.69537666e+02 6.68885929e+03\n",
      " 1.32418906e+04 1.08849097e+03 9.94588598e+01 7.58470047e+01\n",
      " 5.15392953e+02 3.51669922e+04 1.09769639e+04 8.12834393e+04\n",
      " 1.03550873e+03 4.52822667e+01 3.10863147e+04 1.63808900e+04\n",
      " 3.47010148e+02 2.33365850e+04 9.73691828e+02 1.75821265e+04\n",
      " 4.62990424e+04 1.26959806e+02 2.73839661e+04 1.26229558e+04\n",
      " 1.00060922e+04 7.68234426e+03 1.05786031e+05 2.51604503e+04\n",
      " 1.25996527e+01 2.90471912e+00 4.46590618e+03 4.00009824e+03\n",
      " 3.39161731e+03 1.43272020e+04 4.65311450e+04 1.13825407e+04\n",
      " 4.54932084e+03 1.36460984e+04 1.52673495e+04 6.10241776e+02\n",
      " 2.43595689e+05 1.17691745e+04 1.40386495e+04 1.07449022e+04\n",
      " 1.61774582e+04 1.46929365e+04 2.11213535e+05 4.55145729e+03\n",
      " 6.76258187e+03 1.38939425e+04 1.21466056e+04 1.02596403e+04\n",
      " 3.99825786e-01 2.32626515e+05 4.59724751e+03 5.53220059e+03\n",
      " 5.64378902e+03 1.02084520e+04 5.40072620e+04 3.15289554e+01\n",
      " 6.29507955e+04 5.27878820e+03 2.20379228e+01 2.44017374e+02\n",
      " 1.36155410e+04 2.00158669e+04 3.24744526e+03 6.07007163e+03\n",
      " 1.78964981e+04 4.39882878e+04 2.62757449e+04 4.07633396e+04\n",
      " 2.52146117e+05 2.88981353e+03 5.21817884e+04 2.43650299e+04\n",
      " 1.19491306e+04 3.30609292e+04 3.42632689e+04 1.36155410e+04\n",
      " 1.08276382e+03 1.25238563e+04 6.90916412e+03 1.36235021e+04\n",
      " 1.17441061e+04 1.24495043e+04 2.21465926e+04 1.72514212e+04\n",
      " 3.98135103e+04 1.26275226e+05 1.26799247e+04 9.35868890e+02\n",
      " 3.35619819e+05 1.99826056e+04 4.13888276e+03 2.19140523e+03\n",
      " 3.46359581e+04 1.02336383e+04 2.00941521e+04 1.32224047e+02\n",
      " 3.32034614e+02 1.87171967e+04 3.34230781e+04 2.31550581e+04\n",
      " 1.32052851e+05 1.84767351e+00 5.96225391e+04 1.57421006e+04\n",
      " 1.96880590e+03 1.57268383e+03 1.41672115e+04 2.15002208e+04\n",
      " 2.29574540e+04 1.51810501e+04 3.19892869e+04 4.22058083e+03\n",
      " 1.11143251e+04 1.98947007e+02 1.15052464e+02 3.25751590e+03\n",
      " 1.04741304e+03 3.37054228e+04 3.97350385e+04 1.96622164e+05\n",
      " 4.62892551e+04 1.04754204e+04 1.61547558e+02 1.57268409e+04\n",
      " 1.15415239e+05 3.78250175e+04 6.69815716e+03 1.32289091e+05\n",
      " 2.00925066e+04 1.15616098e+04 2.04753410e+04 3.88716560e+04\n",
      " 4.45968033e+04 8.60251983e+01 1.28794237e+04 1.37038878e+04\n",
      " 2.88188902e+02 8.97895883e+01 1.00766971e+04 1.21187785e+04\n",
      " 1.01788652e+02 1.61096820e+02 1.36124703e+04 2.82331204e+03\n",
      " 1.35203969e+04 1.42605046e+04 1.01831550e+04 4.51929183e+02\n",
      " 2.72625202e+04].\n",
      "R Score: 0.9325332924353992\n",
      "RMSE of the log: 0.008736369898102676\n"
     ]
    }
   ],
   "source": [
    "print('Estimated precision of noise: '+str(ARD.alpha_)+'.')\n",
    "print('Estimated precision of weights '+str(ARD.lambda_)+'.')\n",
    "y_pred=ARD.predict(X)\n",
    "print('R Score: '+str(ARD.score(X,y)))\n",
    "print('RMSE of the log: ' + str(np.sqrt(metrics.mean_squared_error(np.log(y),\n",
    "                        np.log(y_pred)))))"
   ]
  },
  {
   "cell_type": "code",
   "execution_count": 335,
   "metadata": {},
   "outputs": [
    {
     "data": {
      "text/html": [
       "<div>\n",
       "<style scoped>\n",
       "    .dataframe tbody tr th:only-of-type {\n",
       "        vertical-align: middle;\n",
       "    }\n",
       "\n",
       "    .dataframe tbody tr th {\n",
       "        vertical-align: top;\n",
       "    }\n",
       "\n",
       "    .dataframe thead th {\n",
       "        text-align: right;\n",
       "    }\n",
       "</style>\n",
       "<table border=\"1\" class=\"dataframe\">\n",
       "  <thead>\n",
       "    <tr style=\"text-align: right;\">\n",
       "      <th></th>\n",
       "      <th>SalePrice</th>\n",
       "    </tr>\n",
       "    <tr>\n",
       "      <th>Id</th>\n",
       "      <th></th>\n",
       "    </tr>\n",
       "  </thead>\n",
       "  <tbody>\n",
       "    <tr>\n",
       "      <th>1461</th>\n",
       "      <td>111992.513702</td>\n",
       "    </tr>\n",
       "    <tr>\n",
       "      <th>1462</th>\n",
       "      <td>156923.232198</td>\n",
       "    </tr>\n",
       "    <tr>\n",
       "      <th>1463</th>\n",
       "      <td>174933.891515</td>\n",
       "    </tr>\n",
       "    <tr>\n",
       "      <th>1464</th>\n",
       "      <td>190546.802156</td>\n",
       "    </tr>\n",
       "    <tr>\n",
       "      <th>1465</th>\n",
       "      <td>197672.311173</td>\n",
       "    </tr>\n",
       "  </tbody>\n",
       "</table>\n",
       "</div>"
      ],
      "text/plain": [
       "          SalePrice\n",
       "Id                 \n",
       "1461  111992.513702\n",
       "1462  156923.232198\n",
       "1463  174933.891515\n",
       "1464  190546.802156\n",
       "1465  197672.311173"
      ]
     },
     "execution_count": 335,
     "metadata": {},
     "output_type": "execute_result"
    }
   ],
   "source": [
    "final_answers=ARD.predict(X_test)\n",
    "sub = pd.DataFrame({'Id':X_test.index,'SalePrice':final_answers})\n",
    "sub.set_index('Id',inplace=True)\n",
    "sub=np.exp(sub)\n",
    "sub.head()"
   ]
  },
  {
   "cell_type": "code",
   "execution_count": 336,
   "metadata": {},
   "outputs": [],
   "source": [
    "sub.to_csv('submission5.csv')"
   ]
  },
  {
   "cell_type": "markdown",
   "metadata": {},
   "source": [
    "# Ensemble Methods"
   ]
  },
  {
   "cell_type": "code",
   "execution_count": 337,
   "metadata": {},
   "outputs": [],
   "source": [
    "from sklearn import ensemble"
   ]
  },
  {
   "cell_type": "code",
   "execution_count": 338,
   "metadata": {},
   "outputs": [],
   "source": [
    "from sklearn.ensemble import GradientBoostingRegressor"
   ]
  },
  {
   "cell_type": "code",
   "execution_count": 353,
   "metadata": {},
   "outputs": [],
   "source": [
    "GBR = GradientBoostingRegressor(loss='huber').fit(X,y)"
   ]
  },
  {
   "cell_type": "code",
   "execution_count": 354,
   "metadata": {},
   "outputs": [
    {
     "name": "stdout",
     "output_type": "stream",
     "text": [
      "RMSE of the log: 0.007471896987728064\n"
     ]
    }
   ],
   "source": [
    "y_pred=GBR.predict(X)\n",
    "print('RMSE of the log: ' + str(np.sqrt(metrics.mean_squared_error(np.log(y),\n",
    "                        np.log(y_pred)))))"
   ]
  },
  {
   "cell_type": "code",
   "execution_count": 355,
   "metadata": {},
   "outputs": [
    {
     "data": {
      "text/html": [
       "<div>\n",
       "<style scoped>\n",
       "    .dataframe tbody tr th:only-of-type {\n",
       "        vertical-align: middle;\n",
       "    }\n",
       "\n",
       "    .dataframe tbody tr th {\n",
       "        vertical-align: top;\n",
       "    }\n",
       "\n",
       "    .dataframe thead th {\n",
       "        text-align: right;\n",
       "    }\n",
       "</style>\n",
       "<table border=\"1\" class=\"dataframe\">\n",
       "  <thead>\n",
       "    <tr style=\"text-align: right;\">\n",
       "      <th></th>\n",
       "      <th>SalePrice</th>\n",
       "    </tr>\n",
       "    <tr>\n",
       "      <th>Id</th>\n",
       "      <th></th>\n",
       "    </tr>\n",
       "  </thead>\n",
       "  <tbody>\n",
       "    <tr>\n",
       "      <th>1461</th>\n",
       "      <td>122009.808087</td>\n",
       "    </tr>\n",
       "    <tr>\n",
       "      <th>1462</th>\n",
       "      <td>163874.348590</td>\n",
       "    </tr>\n",
       "    <tr>\n",
       "      <th>1463</th>\n",
       "      <td>180776.676781</td>\n",
       "    </tr>\n",
       "    <tr>\n",
       "      <th>1464</th>\n",
       "      <td>184915.831661</td>\n",
       "    </tr>\n",
       "    <tr>\n",
       "      <th>1465</th>\n",
       "      <td>193705.505760</td>\n",
       "    </tr>\n",
       "  </tbody>\n",
       "</table>\n",
       "</div>"
      ],
      "text/plain": [
       "          SalePrice\n",
       "Id                 \n",
       "1461  122009.808087\n",
       "1462  163874.348590\n",
       "1463  180776.676781\n",
       "1464  184915.831661\n",
       "1465  193705.505760"
      ]
     },
     "execution_count": 355,
     "metadata": {},
     "output_type": "execute_result"
    }
   ],
   "source": [
    "final_answers=GBR.predict(X_test)\n",
    "sub = pd.DataFrame({'Id':X_test.index,'SalePrice':final_answers})\n",
    "sub.set_index('Id',inplace=True)\n",
    "sub=np.exp(sub)\n",
    "sub.head()"
   ]
  },
  {
   "cell_type": "code",
   "execution_count": 352,
   "metadata": {},
   "outputs": [],
   "source": [
    "sub.to_csv('submission7.csv')"
   ]
  },
  {
   "cell_type": "code",
   "execution_count": null,
   "metadata": {},
   "outputs": [],
   "source": []
  }
 ],
 "metadata": {
  "kernelspec": {
   "display_name": "Python 3",
   "language": "python",
   "name": "python3"
  },
  "language_info": {
   "codemirror_mode": {
    "name": "ipython",
    "version": 3
   },
   "file_extension": ".py",
   "mimetype": "text/x-python",
   "name": "python",
   "nbconvert_exporter": "python",
   "pygments_lexer": "ipython3",
   "version": "3.7.1"
  }
 },
 "nbformat": 4,
 "nbformat_minor": 2
}
